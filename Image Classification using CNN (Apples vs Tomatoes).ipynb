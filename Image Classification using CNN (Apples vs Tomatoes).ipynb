{
 "cells": [
  {
   "cell_type": "code",
   "execution_count": 2,
   "id": "75dcb2ac-7e2c-4416-ad51-d9aa305ce803",
   "metadata": {},
   "outputs": [],
   "source": [
    "import numpy as np\n",
    "import tensorflow as tf\n",
    "from tensorflow.keras.preprocessing.image import ImageDataGenerator\n",
    "from tensorflow.keras.models import Sequential\n",
    "from tensorflow.keras.layers import Conv2D, MaxPooling2D, Flatten, Dense\n",
    "import os\n",
    "import warnings\n",
    "warnings.filterwarnings(\"ignore\")"
   ]
  },
  {
   "cell_type": "code",
   "execution_count": 3,
   "id": "6449efa1-6690-48af-a9ae-5da0707e4bb5",
   "metadata": {},
   "outputs": [],
   "source": [
    "train_dir = r\"C:\\Users\\HP\\Downloads\\Pro 2\\ApplesOrTomatoes\\train\"\n",
    "test_dir = r\"C:\\Users\\HP\\Downloads\\Pro 2\\ApplesOrTomatoes\\test\""
   ]
  },
  {
   "cell_type": "code",
   "execution_count": 4,
   "id": "0a17b715-d084-485f-b584-dc30e26d291b",
   "metadata": {},
   "outputs": [],
   "source": [
    "image_height, image_width = 512, 512"
   ]
  },
  {
   "cell_type": "code",
   "execution_count": 5,
   "id": "195ae812-b0f1-4c75-a1cb-2d6db9d14692",
   "metadata": {},
   "outputs": [],
   "source": [
    "batch_size = 32"
   ]
  },
  {
   "cell_type": "code",
   "execution_count": 6,
   "id": "ab8c69f6-093b-4a95-944b-5c9eb16b2478",
   "metadata": {},
   "outputs": [],
   "source": [
    "train_dataset = ImageDataGenerator(rescale=1./255)"
   ]
  },
  {
   "cell_type": "code",
   "execution_count": 7,
   "id": "f774eb51-338b-45c9-bade-b5a522119ac5",
   "metadata": {},
   "outputs": [],
   "source": [
    "test_dataset = ImageDataGenerator(rescale=1./255)"
   ]
  },
  {
   "cell_type": "code",
   "execution_count": 8,
   "id": "7a5f1c82-3d07-42f9-bca3-09f25c85f4c4",
   "metadata": {},
   "outputs": [
    {
     "name": "stdout",
     "output_type": "stream",
     "text": [
      "Found 294 images belonging to 2 classes.\n"
     ]
    }
   ],
   "source": [
    "X_tr = train_dataset.flow_from_directory(\n",
    "    train_dir,\n",
    "    target_size=(image_height, image_width),\n",
    "    batch_size=batch_size,\n",
    "    class_mode='categorical'\n",
    ")"
   ]
  },
  {
   "cell_type": "code",
   "execution_count": 9,
   "id": "0705888c-e9d2-43d5-a98f-c77c6e5161cf",
   "metadata": {},
   "outputs": [
    {
     "name": "stdout",
     "output_type": "stream",
     "text": [
      "Found 97 images belonging to 2 classes.\n"
     ]
    }
   ],
   "source": [
    "X_te = test_dataset.flow_from_directory(\n",
    "    test_dir,\n",
    "    target_size=(image_height, image_width),\n",
    "    batch_size=batch_size,\n",
    "    class_mode=\"categorical\"\n",
    ")"
   ]
  },
  {
   "cell_type": "code",
   "execution_count": 10,
   "id": "9f04130c-a28c-4b6c-94c7-b000aebd91eb",
   "metadata": {},
   "outputs": [],
   "source": [
    "model = Sequential([\n",
    "    Conv2D(32, (3, 3), activation='relu', input_shape=(image_height, image_width, 3)),\n",
    "    MaxPooling2D((2, 2)),\n",
    "    Conv2D(64, (3, 3), activation='relu'),\n",
    "    MaxPooling2D((2, 2)),\n",
    "    Conv2D(64, (3, 3), activation='relu'),\n",
    "    MaxPooling2D((2, 2)),\n",
    "    Flatten(),\n",
    "    Dense(64, activation='relu'),\n",
    "    Dense(2, activation='softmax')  # Adjusted to 2 units for binary classification\n",
    "])"
   ]
  },
  {
   "cell_type": "code",
   "execution_count": 11,
   "id": "b3407653-21be-4ef6-90f8-91ae432b7006",
   "metadata": {},
   "outputs": [],
   "source": [
    "model.compile(optimizer='adam',\n",
    "              loss='categorical_crossentropy',\n",
    "              metrics=['accuracy'])"
   ]
  },
  {
   "cell_type": "code",
   "execution_count": 13,
   "id": "d05851ec-0d48-4549-a435-6dfa9cdfaff4",
   "metadata": {},
   "outputs": [
    {
     "name": "stdout",
     "output_type": "stream",
     "text": [
      "Epoch 1/10\n",
      "\u001b[1m10/10\u001b[0m \u001b[32m━━━━━━━━━━━━━━━━━━━━\u001b[0m\u001b[37m\u001b[0m \u001b[1m136s\u001b[0m 12s/step - accuracy: 0.4505 - loss: 5.7265 - val_accuracy: 0.5876 - val_loss: 0.8465\n",
      "Epoch 2/10\n",
      "\u001b[1m10/10\u001b[0m \u001b[32m━━━━━━━━━━━━━━━━━━━━\u001b[0m\u001b[37m\u001b[0m \u001b[1m162s\u001b[0m 11s/step - accuracy: 0.6186 - loss: 0.6621 - val_accuracy: 0.5876 - val_loss: 0.5354\n",
      "Epoch 3/10\n",
      "\u001b[1m10/10\u001b[0m \u001b[32m━━━━━━━━━━━━━━━━━━━━\u001b[0m\u001b[37m\u001b[0m \u001b[1m151s\u001b[0m 15s/step - accuracy: 0.6590 - loss: 0.6193 - val_accuracy: 0.6804 - val_loss: 0.5542\n",
      "Epoch 4/10\n",
      "\u001b[1m10/10\u001b[0m \u001b[32m━━━━━━━━━━━━━━━━━━━━\u001b[0m\u001b[37m\u001b[0m \u001b[1m141s\u001b[0m 13s/step - accuracy: 0.7267 - loss: 0.4945 - val_accuracy: 0.7320 - val_loss: 0.5211\n",
      "Epoch 5/10\n",
      "\u001b[1m10/10\u001b[0m \u001b[32m━━━━━━━━━━━━━━━━━━━━\u001b[0m\u001b[37m\u001b[0m \u001b[1m148s\u001b[0m 15s/step - accuracy: 0.7897 - loss: 0.4372 - val_accuracy: 0.7423 - val_loss: 0.4293\n",
      "Epoch 6/10\n",
      "\u001b[1m10/10\u001b[0m \u001b[32m━━━━━━━━━━━━━━━━━━━━\u001b[0m\u001b[37m\u001b[0m \u001b[1m133s\u001b[0m 12s/step - accuracy: 0.8084 - loss: 0.3997 - val_accuracy: 0.7526 - val_loss: 0.4254\n",
      "Epoch 7/10\n",
      "\u001b[1m10/10\u001b[0m \u001b[32m━━━━━━━━━━━━━━━━━━━━\u001b[0m\u001b[37m\u001b[0m \u001b[1m96s\u001b[0m 9s/step - accuracy: 0.8890 - loss: 0.3374 - val_accuracy: 0.6804 - val_loss: 0.7694\n",
      "Epoch 8/10\n",
      "\u001b[1m10/10\u001b[0m \u001b[32m━━━━━━━━━━━━━━━━━━━━\u001b[0m\u001b[37m\u001b[0m \u001b[1m96s\u001b[0m 9s/step - accuracy: 0.8807 - loss: 0.2714 - val_accuracy: 0.7010 - val_loss: 0.4857\n",
      "Epoch 9/10\n",
      "\u001b[1m10/10\u001b[0m \u001b[32m━━━━━━━━━━━━━━━━━━━━\u001b[0m\u001b[37m\u001b[0m \u001b[1m96s\u001b[0m 9s/step - accuracy: 0.9581 - loss: 0.1380 - val_accuracy: 0.6907 - val_loss: 1.0625\n",
      "Epoch 10/10\n",
      "\u001b[1m10/10\u001b[0m \u001b[32m━━━━━━━━━━━━━━━━━━━━\u001b[0m\u001b[37m\u001b[0m \u001b[1m92s\u001b[0m 10s/step - accuracy: 0.9805 - loss: 0.0728 - val_accuracy: 0.7113 - val_loss: 0.9440\n"
     ]
    }
   ],
   "source": [
    "# Train the model\n",
    "history = model.fit(\n",
    "    X_tr,\n",
    "    epochs=10,\n",
    "    validation_data=X_te\n",
    ")"
   ]
  },
  {
   "cell_type": "code",
   "execution_count": 14,
   "id": "5e03e1ab-efe2-41cc-b66d-031c2c332aab",
   "metadata": {},
   "outputs": [],
   "source": [
    "import matplotlib.pyplot as plt"
   ]
  },
  {
   "cell_type": "code",
   "execution_count": 15,
   "id": "303b9433-3198-4806-b872-a773d648899a",
   "metadata": {},
   "outputs": [
    {
     "data": {
      "image/png": "[encoded data removed]",
      "text/plain": [
       "<Figure size 640x480 with 1 Axes>"
      ]
     },
     "metadata": {},
     "output_type": "display_data"
    }
   ],
   "source": [
    "plt.plot(history.history[\"accuracy\"])\n",
    "plt.plot(history.history[\"val_accuracy\"])\n",
    "plt.title(\"Model Accuracy\")\n",
    "plt.xlabel(\"Epochs\")\n",
    "plt.ylabel(\"Accuracy\")\n",
    "plt.legend([\"Train\", \"Validation\"])\n",
    "plt.show()"
   ]
  },
  {
   "cell_type": "code",
   "execution_count": 16,
   "id": "bfdba142-3d10-4dab-b68d-111389942a72",
   "metadata": {},
   "outputs": [
    {
     "data": {
      "image/png": "[encoded data removed]",
      "text/plain": [
       "<Figure size 640x480 with 1 Axes>"
      ]
     },
     "metadata": {},
     "output_type": "display_data"
    }
   ],
   "source": [
    "plt.plot(history.history[\"loss\"])\n",
    "plt.plot(history.history[\"val_loss\"])\n",
    "plt.title(\"Model Loss\")\n",
    "plt.xlabel(\"Epochs\")\n",
    "plt.ylabel(\"Loss\")\n",
    "plt.legend([\"Train\", \"Validation\"])\n",
    "plt.show()"
   ]
  },
  {
   "cell_type": "code",
   "execution_count": 19,
   "id": "fa80ca7c-ad92-45dc-9005-845b3b2b3d70",
   "metadata": {},
   "outputs": [],
   "source": [
    "classLabels = X_tr.class_indices"
   ]
  },
  {
   "cell_type": "code",
   "execution_count": 21,
   "id": "45d0df6a-4161-4184-a779-65df95501027",
   "metadata": {},
   "outputs": [
    {
     "name": "stdout",
     "output_type": "stream",
     "text": [
      "Class Names: {0: 'apples', 1: 'tomatoes'}\n"
     ]
    }
   ],
   "source": [
    "classNames = {value: key for key, value in classLabels.items()}\n",
    "print(\"Class Names:\", classNames)"
   ]
  },
  {
   "cell_type": "code",
   "execution_count": 22,
   "id": "f77b5c33-8879-44c3-829c-3d9cf1d5f0f5",
   "metadata": {},
   "outputs": [],
   "source": [
    "from tensorflow.keras.preprocessing import image"
   ]
  },
  {
   "cell_type": "code",
   "execution_count": 43,
   "id": "4a41aaea-5465-4d30-9558-45baef8e5376",
   "metadata": {},
   "outputs": [],
   "source": [
    "NewImgPath = r\"C:\\Users\\HP\\Downloads\\Pro 2\\img_p1_4.jpeg\""
   ]
  },
  {
   "cell_type": "code",
   "execution_count": 44,
   "id": "047d6aaf-bd8f-4e39-9d30-d621c721dda3",
   "metadata": {},
   "outputs": [],
   "source": [
    "NewImg = image.load_img(NewImgPath, target_size=(image_height, image_width))"
   ]
  },
  {
   "cell_type": "code",
   "execution_count": 45,
   "id": "19c97a2f-db0e-4e23-a9c2-2f28158bdc6d",
   "metadata": {},
   "outputs": [],
   "source": [
    "ImgArr = image.img_to_array(NewImg)"
   ]
  },
  {
   "cell_type": "code",
   "execution_count": 46,
   "id": "472b7ab7-05bd-48eb-ba42-b7be8ed41e7b",
   "metadata": {},
   "outputs": [],
   "source": [
    "ImgArr = np.expand_dims(ImgArr, axis=0)"
   ]
  },
  {
   "cell_type": "code",
   "execution_count": 47,
   "id": "fd748fe3-f41b-43a7-844e-6e98ffb02230",
   "metadata": {},
   "outputs": [],
   "source": [
    "ImgArr = ImgArr / 255.0"
   ]
  },
  {
   "cell_type": "code",
   "execution_count": 48,
   "id": "dcbb7a83-f345-4724-99b3-534c0b22d92b",
   "metadata": {},
   "outputs": [
    {
     "name": "stdout",
     "output_type": "stream",
     "text": [
      "\u001b[1m1/1\u001b[0m \u001b[32m━━━━━━━━━━━━━━━━━━━━\u001b[0m\u001b[37m\u001b[0m \u001b[1m1s\u001b[0m 599ms/step\n"
     ]
    }
   ],
   "source": [
    "Predict = model.predict(ImgArr)"
   ]
  },
  {
   "cell_type": "code",
   "execution_count": 49,
   "id": "507c479f-9918-4d30-90c6-e9689ee11363",
   "metadata": {},
   "outputs": [],
   "source": [
    "PredictClass = np.argmax(Predict)"
   ]
  },
  {
   "cell_type": "code",
   "execution_count": 50,
   "id": "e80b2165-4ef3-414a-9900-767120f6a665",
   "metadata": {},
   "outputs": [
    {
     "data": {
      "text/plain": [
       "'apples'"
      ]
     },
     "execution_count": 50,
     "metadata": {},
     "output_type": "execute_result"
    }
   ],
   "source": [
    "classNames[PredictClass]"
   ]
  }
 ],
 "metadata": {
  "kernelspec": {
   "display_name": "Python 3 (ipykernel)",
   "language": "python",
   "name": "python3"
  },
  "language_info": {
   "codemirror_mode": {
    "name": "ipython",
    "version": 3
   },
   "file_extension": ".py",
   "mimetype": "text/x-python",
   "name": "python",
   "nbconvert_exporter": "python",
   "pygments_lexer": "ipython3",
   "version": "3.11.4"
  }
 },
 "nbformat": 4,
 "nbformat_minor": 5
}
