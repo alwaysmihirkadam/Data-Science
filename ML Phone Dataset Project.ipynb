{
 "cells": [
  {
   "cell_type": "code",
   "execution_count": 1,
   "id": "4d273f4d",
   "metadata": {},
   "outputs": [],
   "source": [
    "import numpy as np\n",
    "import pandas as pd\n",
    "import matplotlib.pyplot as plt\n",
    "import seaborn as sns\n",
    "import warnings\n",
    "warnings.filterwarnings(\"ignore\")"
   ]
  },
  {
   "cell_type": "code",
   "execution_count": 2,
   "id": "dc28fb7e",
   "metadata": {},
   "outputs": [],
   "source": [
    "data = pd.read_csv(\"phones_data.csv\")"
   ]
  },
  {
   "cell_type": "code",
   "execution_count": 3,
   "id": "2a0ceda4",
   "metadata": {},
   "outputs": [],
   "source": [
    "df = data.copy()"
   ]
  },
  {
   "cell_type": "code",
   "execution_count": 4,
   "id": "4b1f6034",
   "metadata": {},
   "outputs": [
    {
     "data": {
      "text/html": [
       "<div>\n",
       "<style scoped>\n",
       "    .dataframe tbody tr th:only-of-type {\n",
       "        vertical-align: middle;\n",
       "    }\n",
       "\n",
       "    .dataframe tbody tr th {\n",
       "        vertical-align: top;\n",
       "    }\n",
       "\n",
       "    .dataframe thead th {\n",
       "        text-align: right;\n",
       "    }\n",
       "</style>\n",
       "<table border=\"1\" class=\"dataframe\">\n",
       "  <thead>\n",
       "    <tr style=\"text-align: right;\">\n",
       "      <th></th>\n",
       "      <th>Unnamed: 0</th>\n",
       "      <th>brand</th>\n",
       "      <th>model</th>\n",
       "      <th>os</th>\n",
       "      <th>popularity</th>\n",
       "      <th>best_price</th>\n",
       "      <th>lowest_price</th>\n",
       "      <th>highest_price</th>\n",
       "      <th>memory_size</th>\n",
       "      <th>release_date</th>\n",
       "    </tr>\n",
       "  </thead>\n",
       "  <tbody>\n",
       "    <tr>\n",
       "      <th>0</th>\n",
       "      <td>0</td>\n",
       "      <td>Acer</td>\n",
       "      <td>Iconia Talk S</td>\n",
       "      <td>Android</td>\n",
       "      <td>422</td>\n",
       "      <td>1690</td>\n",
       "      <td>1529</td>\n",
       "      <td>1819</td>\n",
       "      <td>8.0</td>\n",
       "      <td>01-10-2020</td>\n",
       "    </tr>\n",
       "    <tr>\n",
       "      <th>1</th>\n",
       "      <td>1</td>\n",
       "      <td>Acer</td>\n",
       "      <td>Liquid Z6 Plus</td>\n",
       "      <td>Android</td>\n",
       "      <td>323</td>\n",
       "      <td>1803</td>\n",
       "      <td>1659</td>\n",
       "      <td>2489</td>\n",
       "      <td>16.0</td>\n",
       "      <td>01-09-2020</td>\n",
       "    </tr>\n",
       "    <tr>\n",
       "      <th>2</th>\n",
       "      <td>2</td>\n",
       "      <td>Acer</td>\n",
       "      <td>Liquid Z6</td>\n",
       "      <td>Android</td>\n",
       "      <td>299</td>\n",
       "      <td>1803</td>\n",
       "      <td>1659</td>\n",
       "      <td>2489</td>\n",
       "      <td>16.0</td>\n",
       "      <td>01-09-2020</td>\n",
       "    </tr>\n",
       "    <tr>\n",
       "      <th>3</th>\n",
       "      <td>3</td>\n",
       "      <td>Acer</td>\n",
       "      <td>Iconia Tab 10 A3-A40</td>\n",
       "      <td>Android</td>\n",
       "      <td>287</td>\n",
       "      <td>1803</td>\n",
       "      <td>1659</td>\n",
       "      <td>2489</td>\n",
       "      <td>16.0</td>\n",
       "      <td>01-09-2020</td>\n",
       "    </tr>\n",
       "    <tr>\n",
       "      <th>4</th>\n",
       "      <td>4</td>\n",
       "      <td>Acer</td>\n",
       "      <td>Liquid X2</td>\n",
       "      <td>Android</td>\n",
       "      <td>1047</td>\n",
       "      <td>1999</td>\n",
       "      <td>0</td>\n",
       "      <td>0</td>\n",
       "      <td>16.0</td>\n",
       "      <td>01-04-2020</td>\n",
       "    </tr>\n",
       "    <tr>\n",
       "      <th>...</th>\n",
       "      <td>...</td>\n",
       "      <td>...</td>\n",
       "      <td>...</td>\n",
       "      <td>...</td>\n",
       "      <td>...</td>\n",
       "      <td>...</td>\n",
       "      <td>...</td>\n",
       "      <td>...</td>\n",
       "      <td>...</td>\n",
       "      <td>...</td>\n",
       "    </tr>\n",
       "    <tr>\n",
       "      <th>1219</th>\n",
       "      <td>1219</td>\n",
       "      <td>Apple</td>\n",
       "      <td>Studio 5.0 CE</td>\n",
       "      <td>iOS</td>\n",
       "      <td>1101</td>\n",
       "      <td>22685</td>\n",
       "      <td>16018</td>\n",
       "      <td>27900</td>\n",
       "      <td>0.0</td>\n",
       "      <td>01-09-2018</td>\n",
       "    </tr>\n",
       "    <tr>\n",
       "      <th>1220</th>\n",
       "      <td>1220</td>\n",
       "      <td>Apple</td>\n",
       "      <td>Vivo IV</td>\n",
       "      <td>iOS</td>\n",
       "      <td>530</td>\n",
       "      <td>24600</td>\n",
       "      <td>21939</td>\n",
       "      <td>33720</td>\n",
       "      <td>0.0</td>\n",
       "      <td>01-09-2018</td>\n",
       "    </tr>\n",
       "    <tr>\n",
       "      <th>1221</th>\n",
       "      <td>1221</td>\n",
       "      <td>HUAWEI</td>\n",
       "      <td>Life 8</td>\n",
       "      <td>Android</td>\n",
       "      <td>1174</td>\n",
       "      <td>8804</td>\n",
       "      <td>7999</td>\n",
       "      <td>9999</td>\n",
       "      <td>128.0</td>\n",
       "      <td>01-11-2019</td>\n",
       "    </tr>\n",
       "    <tr>\n",
       "      <th>1222</th>\n",
       "      <td>1222</td>\n",
       "      <td>ZTE</td>\n",
       "      <td>Life Pure XL</td>\n",
       "      <td>Android</td>\n",
       "      <td>752</td>\n",
       "      <td>18755</td>\n",
       "      <td>18500</td>\n",
       "      <td>19010</td>\n",
       "      <td>128.0</td>\n",
       "      <td>01-10-2020</td>\n",
       "    </tr>\n",
       "    <tr>\n",
       "      <th>1223</th>\n",
       "      <td>1223</td>\n",
       "      <td>Sigma mobile</td>\n",
       "      <td>Studio 5.0 LTE</td>\n",
       "      <td>Android</td>\n",
       "      <td>952</td>\n",
       "      <td>907</td>\n",
       "      <td>785</td>\n",
       "      <td>944</td>\n",
       "      <td>0.0</td>\n",
       "      <td>01-01-2020</td>\n",
       "    </tr>\n",
       "  </tbody>\n",
       "</table>\n",
       "<p>1224 rows × 10 columns</p>\n",
       "</div>"
      ],
      "text/plain": [
       "      Unnamed: 0         brand                 model       os  popularity  \\\n",
       "0              0          Acer         Iconia Talk S  Android         422   \n",
       "1              1          Acer        Liquid Z6 Plus  Android         323   \n",
       "2              2          Acer             Liquid Z6  Android         299   \n",
       "3              3          Acer  Iconia Tab 10 A3-A40  Android         287   \n",
       "4              4          Acer             Liquid X2  Android        1047   \n",
       "...          ...           ...                   ...      ...         ...   \n",
       "1219        1219         Apple         Studio 5.0 CE      iOS        1101   \n",
       "1220        1220         Apple               Vivo IV      iOS         530   \n",
       "1221        1221        HUAWEI                Life 8  Android        1174   \n",
       "1222        1222           ZTE          Life Pure XL  Android         752   \n",
       "1223        1223  Sigma mobile        Studio 5.0 LTE  Android         952   \n",
       "\n",
       "      best_price  lowest_price  highest_price  memory_size release_date  \n",
       "0           1690          1529           1819          8.0   01-10-2020  \n",
       "1           1803          1659           2489         16.0   01-09-2020  \n",
       "2           1803          1659           2489         16.0   01-09-2020  \n",
       "3           1803          1659           2489         16.0   01-09-2020  \n",
       "4           1999             0              0         16.0   01-04-2020  \n",
       "...          ...           ...            ...          ...          ...  \n",
       "1219       22685         16018          27900          0.0   01-09-2018  \n",
       "1220       24600         21939          33720          0.0   01-09-2018  \n",
       "1221        8804          7999           9999        128.0   01-11-2019  \n",
       "1222       18755         18500          19010        128.0   01-10-2020  \n",
       "1223         907           785            944          0.0   01-01-2020  \n",
       "\n",
       "[1224 rows x 10 columns]"
      ]
     },
     "execution_count": 4,
     "metadata": {},
     "output_type": "execute_result"
    }
   ],
   "source": [
    "df"
   ]
  },
  {
   "cell_type": "code",
   "execution_count": 5,
   "id": "d4b9162e",
   "metadata": {},
   "outputs": [
    {
     "data": {
      "text/html": [
       "<div>\n",
       "<style scoped>\n",
       "    .dataframe tbody tr th:only-of-type {\n",
       "        vertical-align: middle;\n",
       "    }\n",
       "\n",
       "    .dataframe tbody tr th {\n",
       "        vertical-align: top;\n",
       "    }\n",
       "\n",
       "    .dataframe thead th {\n",
       "        text-align: right;\n",
       "    }\n",
       "</style>\n",
       "<table border=\"1\" class=\"dataframe\">\n",
       "  <thead>\n",
       "    <tr style=\"text-align: right;\">\n",
       "      <th></th>\n",
       "      <th>Unnamed: 0</th>\n",
       "      <th>brand</th>\n",
       "      <th>model</th>\n",
       "      <th>os</th>\n",
       "      <th>popularity</th>\n",
       "      <th>best_price</th>\n",
       "      <th>lowest_price</th>\n",
       "      <th>highest_price</th>\n",
       "      <th>memory_size</th>\n",
       "      <th>release_date</th>\n",
       "    </tr>\n",
       "  </thead>\n",
       "  <tbody>\n",
       "    <tr>\n",
       "      <th>0</th>\n",
       "      <td>0</td>\n",
       "      <td>Acer</td>\n",
       "      <td>Iconia Talk S</td>\n",
       "      <td>Android</td>\n",
       "      <td>422</td>\n",
       "      <td>1690</td>\n",
       "      <td>1529</td>\n",
       "      <td>1819</td>\n",
       "      <td>8.0</td>\n",
       "      <td>01-10-2020</td>\n",
       "    </tr>\n",
       "    <tr>\n",
       "      <th>1</th>\n",
       "      <td>1</td>\n",
       "      <td>Acer</td>\n",
       "      <td>Liquid Z6 Plus</td>\n",
       "      <td>Android</td>\n",
       "      <td>323</td>\n",
       "      <td>1803</td>\n",
       "      <td>1659</td>\n",
       "      <td>2489</td>\n",
       "      <td>16.0</td>\n",
       "      <td>01-09-2020</td>\n",
       "    </tr>\n",
       "    <tr>\n",
       "      <th>2</th>\n",
       "      <td>2</td>\n",
       "      <td>Acer</td>\n",
       "      <td>Liquid Z6</td>\n",
       "      <td>Android</td>\n",
       "      <td>299</td>\n",
       "      <td>1803</td>\n",
       "      <td>1659</td>\n",
       "      <td>2489</td>\n",
       "      <td>16.0</td>\n",
       "      <td>01-09-2020</td>\n",
       "    </tr>\n",
       "    <tr>\n",
       "      <th>3</th>\n",
       "      <td>3</td>\n",
       "      <td>Acer</td>\n",
       "      <td>Iconia Tab 10 A3-A40</td>\n",
       "      <td>Android</td>\n",
       "      <td>287</td>\n",
       "      <td>1803</td>\n",
       "      <td>1659</td>\n",
       "      <td>2489</td>\n",
       "      <td>16.0</td>\n",
       "      <td>01-09-2020</td>\n",
       "    </tr>\n",
       "    <tr>\n",
       "      <th>4</th>\n",
       "      <td>4</td>\n",
       "      <td>Acer</td>\n",
       "      <td>Liquid X2</td>\n",
       "      <td>Android</td>\n",
       "      <td>1047</td>\n",
       "      <td>1999</td>\n",
       "      <td>0</td>\n",
       "      <td>0</td>\n",
       "      <td>16.0</td>\n",
       "      <td>01-04-2020</td>\n",
       "    </tr>\n",
       "  </tbody>\n",
       "</table>\n",
       "</div>"
      ],
      "text/plain": [
       "   Unnamed: 0 brand                 model       os  popularity  best_price  \\\n",
       "0           0  Acer         Iconia Talk S  Android         422        1690   \n",
       "1           1  Acer        Liquid Z6 Plus  Android         323        1803   \n",
       "2           2  Acer             Liquid Z6  Android         299        1803   \n",
       "3           3  Acer  Iconia Tab 10 A3-A40  Android         287        1803   \n",
       "4           4  Acer             Liquid X2  Android        1047        1999   \n",
       "\n",
       "   lowest_price  highest_price  memory_size release_date  \n",
       "0          1529           1819          8.0   01-10-2020  \n",
       "1          1659           2489         16.0   01-09-2020  \n",
       "2          1659           2489         16.0   01-09-2020  \n",
       "3          1659           2489         16.0   01-09-2020  \n",
       "4             0              0         16.0   01-04-2020  "
      ]
     },
     "execution_count": 5,
     "metadata": {},
     "output_type": "execute_result"
    }
   ],
   "source": [
    "df.head()"
   ]
  },
  {
   "cell_type": "code",
   "execution_count": 6,
   "id": "02862aa2",
   "metadata": {},
   "outputs": [
    {
     "name": "stdout",
     "output_type": "stream",
     "text": [
      "<class 'pandas.core.frame.DataFrame'>\n",
      "RangeIndex: 1224 entries, 0 to 1223\n",
      "Data columns (total 10 columns):\n",
      " #   Column         Non-Null Count  Dtype  \n",
      "---  ------         --------------  -----  \n",
      " 0   Unnamed: 0     1224 non-null   int64  \n",
      " 1   brand          1224 non-null   object \n",
      " 2   model          1224 non-null   object \n",
      " 3   os             1224 non-null   object \n",
      " 4   popularity     1224 non-null   int64  \n",
      " 5   best_price     1224 non-null   int64  \n",
      " 6   lowest_price   1224 non-null   int64  \n",
      " 7   highest_price  1224 non-null   int64  \n",
      " 8   memory_size    1224 non-null   float64\n",
      " 9   release_date   1224 non-null   object \n",
      "dtypes: float64(1), int64(5), object(4)\n",
      "memory usage: 95.8+ KB\n"
     ]
    }
   ],
   "source": [
    "df.info()"
   ]
  },
  {
   "cell_type": "code",
   "execution_count": 7,
   "id": "38b3ed37",
   "metadata": {},
   "outputs": [],
   "source": [
    "# Remove unwanted column\n",
    "df = df.drop(columns=[\"Unnamed: 0\"], axis=1)"
   ]
  },
  {
   "cell_type": "code",
   "execution_count": 8,
   "id": "5d5b64f8",
   "metadata": {
    "scrolled": false
   },
   "outputs": [
    {
     "data": {
      "text/html": [
       "<div>\n",
       "<style scoped>\n",
       "    .dataframe tbody tr th:only-of-type {\n",
       "        vertical-align: middle;\n",
       "    }\n",
       "\n",
       "    .dataframe tbody tr th {\n",
       "        vertical-align: top;\n",
       "    }\n",
       "\n",
       "    .dataframe thead th {\n",
       "        text-align: right;\n",
       "    }\n",
       "</style>\n",
       "<table border=\"1\" class=\"dataframe\">\n",
       "  <thead>\n",
       "    <tr style=\"text-align: right;\">\n",
       "      <th></th>\n",
       "      <th>brand</th>\n",
       "      <th>model</th>\n",
       "      <th>os</th>\n",
       "      <th>popularity</th>\n",
       "      <th>best_price</th>\n",
       "      <th>lowest_price</th>\n",
       "      <th>highest_price</th>\n",
       "      <th>memory_size</th>\n",
       "      <th>release_date</th>\n",
       "    </tr>\n",
       "  </thead>\n",
       "  <tbody>\n",
       "    <tr>\n",
       "      <th>0</th>\n",
       "      <td>Acer</td>\n",
       "      <td>Iconia Talk S</td>\n",
       "      <td>Android</td>\n",
       "      <td>422</td>\n",
       "      <td>1690</td>\n",
       "      <td>1529</td>\n",
       "      <td>1819</td>\n",
       "      <td>8.0</td>\n",
       "      <td>01-10-2020</td>\n",
       "    </tr>\n",
       "    <tr>\n",
       "      <th>1</th>\n",
       "      <td>Acer</td>\n",
       "      <td>Liquid Z6 Plus</td>\n",
       "      <td>Android</td>\n",
       "      <td>323</td>\n",
       "      <td>1803</td>\n",
       "      <td>1659</td>\n",
       "      <td>2489</td>\n",
       "      <td>16.0</td>\n",
       "      <td>01-09-2020</td>\n",
       "    </tr>\n",
       "    <tr>\n",
       "      <th>2</th>\n",
       "      <td>Acer</td>\n",
       "      <td>Liquid Z6</td>\n",
       "      <td>Android</td>\n",
       "      <td>299</td>\n",
       "      <td>1803</td>\n",
       "      <td>1659</td>\n",
       "      <td>2489</td>\n",
       "      <td>16.0</td>\n",
       "      <td>01-09-2020</td>\n",
       "    </tr>\n",
       "    <tr>\n",
       "      <th>3</th>\n",
       "      <td>Acer</td>\n",
       "      <td>Iconia Tab 10 A3-A40</td>\n",
       "      <td>Android</td>\n",
       "      <td>287</td>\n",
       "      <td>1803</td>\n",
       "      <td>1659</td>\n",
       "      <td>2489</td>\n",
       "      <td>16.0</td>\n",
       "      <td>01-09-2020</td>\n",
       "    </tr>\n",
       "    <tr>\n",
       "      <th>4</th>\n",
       "      <td>Acer</td>\n",
       "      <td>Liquid X2</td>\n",
       "      <td>Android</td>\n",
       "      <td>1047</td>\n",
       "      <td>1999</td>\n",
       "      <td>0</td>\n",
       "      <td>0</td>\n",
       "      <td>16.0</td>\n",
       "      <td>01-04-2020</td>\n",
       "    </tr>\n",
       "  </tbody>\n",
       "</table>\n",
       "</div>"
      ],
      "text/plain": [
       "  brand                 model       os  popularity  best_price  lowest_price  \\\n",
       "0  Acer         Iconia Talk S  Android         422        1690          1529   \n",
       "1  Acer        Liquid Z6 Plus  Android         323        1803          1659   \n",
       "2  Acer             Liquid Z6  Android         299        1803          1659   \n",
       "3  Acer  Iconia Tab 10 A3-A40  Android         287        1803          1659   \n",
       "4  Acer             Liquid X2  Android        1047        1999             0   \n",
       "\n",
       "   highest_price  memory_size release_date  \n",
       "0           1819          8.0   01-10-2020  \n",
       "1           2489         16.0   01-09-2020  \n",
       "2           2489         16.0   01-09-2020  \n",
       "3           2489         16.0   01-09-2020  \n",
       "4              0         16.0   01-04-2020  "
      ]
     },
     "execution_count": 8,
     "metadata": {},
     "output_type": "execute_result"
    }
   ],
   "source": [
    "df.head()"
   ]
  },
  {
   "cell_type": "code",
   "execution_count": 9,
   "id": "f9661798",
   "metadata": {},
   "outputs": [],
   "source": [
    "# Split the \"release_date\" column into day, month, and year components\n",
    "df[\"day\"] = df[\"release_date\"].str.split(\"-\").str[0]\n",
    "df[\"month\"] = df[\"release_date\"].str.split(\"-\").str[1]\n",
    "df[\"year\"] = df[\"release_date\"].str.split(\"-\").str[2]"
   ]
  },
  {
   "cell_type": "code",
   "execution_count": 10,
   "id": "d9136f52",
   "metadata": {},
   "outputs": [
    {
     "data": {
      "text/html": [
       "<div>\n",
       "<style scoped>\n",
       "    .dataframe tbody tr th:only-of-type {\n",
       "        vertical-align: middle;\n",
       "    }\n",
       "\n",
       "    .dataframe tbody tr th {\n",
       "        vertical-align: top;\n",
       "    }\n",
       "\n",
       "    .dataframe thead th {\n",
       "        text-align: right;\n",
       "    }\n",
       "</style>\n",
       "<table border=\"1\" class=\"dataframe\">\n",
       "  <thead>\n",
       "    <tr style=\"text-align: right;\">\n",
       "      <th></th>\n",
       "      <th>brand</th>\n",
       "      <th>model</th>\n",
       "      <th>os</th>\n",
       "      <th>popularity</th>\n",
       "      <th>best_price</th>\n",
       "      <th>lowest_price</th>\n",
       "      <th>highest_price</th>\n",
       "      <th>memory_size</th>\n",
       "      <th>release_date</th>\n",
       "      <th>day</th>\n",
       "      <th>month</th>\n",
       "      <th>year</th>\n",
       "    </tr>\n",
       "  </thead>\n",
       "  <tbody>\n",
       "    <tr>\n",
       "      <th>0</th>\n",
       "      <td>Acer</td>\n",
       "      <td>Iconia Talk S</td>\n",
       "      <td>Android</td>\n",
       "      <td>422</td>\n",
       "      <td>1690</td>\n",
       "      <td>1529</td>\n",
       "      <td>1819</td>\n",
       "      <td>8.0</td>\n",
       "      <td>01-10-2020</td>\n",
       "      <td>01</td>\n",
       "      <td>10</td>\n",
       "      <td>2020</td>\n",
       "    </tr>\n",
       "    <tr>\n",
       "      <th>1</th>\n",
       "      <td>Acer</td>\n",
       "      <td>Liquid Z6 Plus</td>\n",
       "      <td>Android</td>\n",
       "      <td>323</td>\n",
       "      <td>1803</td>\n",
       "      <td>1659</td>\n",
       "      <td>2489</td>\n",
       "      <td>16.0</td>\n",
       "      <td>01-09-2020</td>\n",
       "      <td>01</td>\n",
       "      <td>09</td>\n",
       "      <td>2020</td>\n",
       "    </tr>\n",
       "    <tr>\n",
       "      <th>2</th>\n",
       "      <td>Acer</td>\n",
       "      <td>Liquid Z6</td>\n",
       "      <td>Android</td>\n",
       "      <td>299</td>\n",
       "      <td>1803</td>\n",
       "      <td>1659</td>\n",
       "      <td>2489</td>\n",
       "      <td>16.0</td>\n",
       "      <td>01-09-2020</td>\n",
       "      <td>01</td>\n",
       "      <td>09</td>\n",
       "      <td>2020</td>\n",
       "    </tr>\n",
       "    <tr>\n",
       "      <th>3</th>\n",
       "      <td>Acer</td>\n",
       "      <td>Iconia Tab 10 A3-A40</td>\n",
       "      <td>Android</td>\n",
       "      <td>287</td>\n",
       "      <td>1803</td>\n",
       "      <td>1659</td>\n",
       "      <td>2489</td>\n",
       "      <td>16.0</td>\n",
       "      <td>01-09-2020</td>\n",
       "      <td>01</td>\n",
       "      <td>09</td>\n",
       "      <td>2020</td>\n",
       "    </tr>\n",
       "    <tr>\n",
       "      <th>4</th>\n",
       "      <td>Acer</td>\n",
       "      <td>Liquid X2</td>\n",
       "      <td>Android</td>\n",
       "      <td>1047</td>\n",
       "      <td>1999</td>\n",
       "      <td>0</td>\n",
       "      <td>0</td>\n",
       "      <td>16.0</td>\n",
       "      <td>01-04-2020</td>\n",
       "      <td>01</td>\n",
       "      <td>04</td>\n",
       "      <td>2020</td>\n",
       "    </tr>\n",
       "  </tbody>\n",
       "</table>\n",
       "</div>"
      ],
      "text/plain": [
       "  brand                 model       os  popularity  best_price  lowest_price  \\\n",
       "0  Acer         Iconia Talk S  Android         422        1690          1529   \n",
       "1  Acer        Liquid Z6 Plus  Android         323        1803          1659   \n",
       "2  Acer             Liquid Z6  Android         299        1803          1659   \n",
       "3  Acer  Iconia Tab 10 A3-A40  Android         287        1803          1659   \n",
       "4  Acer             Liquid X2  Android        1047        1999             0   \n",
       "\n",
       "   highest_price  memory_size release_date day month  year  \n",
       "0           1819          8.0   01-10-2020  01    10  2020  \n",
       "1           2489         16.0   01-09-2020  01    09  2020  \n",
       "2           2489         16.0   01-09-2020  01    09  2020  \n",
       "3           2489         16.0   01-09-2020  01    09  2020  \n",
       "4              0         16.0   01-04-2020  01    04  2020  "
      ]
     },
     "execution_count": 10,
     "metadata": {},
     "output_type": "execute_result"
    }
   ],
   "source": [
    "df.head()"
   ]
  },
  {
   "cell_type": "code",
   "execution_count": 11,
   "id": "081e8ff1",
   "metadata": {},
   "outputs": [],
   "source": [
    "# Remove release date column\n",
    "df = df.drop(columns=[\"release_date\"], axis=1)"
   ]
  },
  {
   "cell_type": "code",
   "execution_count": 12,
   "id": "6c32903d",
   "metadata": {},
   "outputs": [
    {
     "data": {
      "text/html": [
       "<div>\n",
       "<style scoped>\n",
       "    .dataframe tbody tr th:only-of-type {\n",
       "        vertical-align: middle;\n",
       "    }\n",
       "\n",
       "    .dataframe tbody tr th {\n",
       "        vertical-align: top;\n",
       "    }\n",
       "\n",
       "    .dataframe thead th {\n",
       "        text-align: right;\n",
       "    }\n",
       "</style>\n",
       "<table border=\"1\" class=\"dataframe\">\n",
       "  <thead>\n",
       "    <tr style=\"text-align: right;\">\n",
       "      <th></th>\n",
       "      <th>brand</th>\n",
       "      <th>model</th>\n",
       "      <th>os</th>\n",
       "      <th>popularity</th>\n",
       "      <th>best_price</th>\n",
       "      <th>lowest_price</th>\n",
       "      <th>highest_price</th>\n",
       "      <th>memory_size</th>\n",
       "      <th>day</th>\n",
       "      <th>month</th>\n",
       "      <th>year</th>\n",
       "    </tr>\n",
       "  </thead>\n",
       "  <tbody>\n",
       "    <tr>\n",
       "      <th>0</th>\n",
       "      <td>Acer</td>\n",
       "      <td>Iconia Talk S</td>\n",
       "      <td>Android</td>\n",
       "      <td>422</td>\n",
       "      <td>1690</td>\n",
       "      <td>1529</td>\n",
       "      <td>1819</td>\n",
       "      <td>8.0</td>\n",
       "      <td>01</td>\n",
       "      <td>10</td>\n",
       "      <td>2020</td>\n",
       "    </tr>\n",
       "    <tr>\n",
       "      <th>1</th>\n",
       "      <td>Acer</td>\n",
       "      <td>Liquid Z6 Plus</td>\n",
       "      <td>Android</td>\n",
       "      <td>323</td>\n",
       "      <td>1803</td>\n",
       "      <td>1659</td>\n",
       "      <td>2489</td>\n",
       "      <td>16.0</td>\n",
       "      <td>01</td>\n",
       "      <td>09</td>\n",
       "      <td>2020</td>\n",
       "    </tr>\n",
       "    <tr>\n",
       "      <th>2</th>\n",
       "      <td>Acer</td>\n",
       "      <td>Liquid Z6</td>\n",
       "      <td>Android</td>\n",
       "      <td>299</td>\n",
       "      <td>1803</td>\n",
       "      <td>1659</td>\n",
       "      <td>2489</td>\n",
       "      <td>16.0</td>\n",
       "      <td>01</td>\n",
       "      <td>09</td>\n",
       "      <td>2020</td>\n",
       "    </tr>\n",
       "    <tr>\n",
       "      <th>3</th>\n",
       "      <td>Acer</td>\n",
       "      <td>Iconia Tab 10 A3-A40</td>\n",
       "      <td>Android</td>\n",
       "      <td>287</td>\n",
       "      <td>1803</td>\n",
       "      <td>1659</td>\n",
       "      <td>2489</td>\n",
       "      <td>16.0</td>\n",
       "      <td>01</td>\n",
       "      <td>09</td>\n",
       "      <td>2020</td>\n",
       "    </tr>\n",
       "    <tr>\n",
       "      <th>4</th>\n",
       "      <td>Acer</td>\n",
       "      <td>Liquid X2</td>\n",
       "      <td>Android</td>\n",
       "      <td>1047</td>\n",
       "      <td>1999</td>\n",
       "      <td>0</td>\n",
       "      <td>0</td>\n",
       "      <td>16.0</td>\n",
       "      <td>01</td>\n",
       "      <td>04</td>\n",
       "      <td>2020</td>\n",
       "    </tr>\n",
       "  </tbody>\n",
       "</table>\n",
       "</div>"
      ],
      "text/plain": [
       "  brand                 model       os  popularity  best_price  lowest_price  \\\n",
       "0  Acer         Iconia Talk S  Android         422        1690          1529   \n",
       "1  Acer        Liquid Z6 Plus  Android         323        1803          1659   \n",
       "2  Acer             Liquid Z6  Android         299        1803          1659   \n",
       "3  Acer  Iconia Tab 10 A3-A40  Android         287        1803          1659   \n",
       "4  Acer             Liquid X2  Android        1047        1999             0   \n",
       "\n",
       "   highest_price  memory_size day month  year  \n",
       "0           1819          8.0  01    10  2020  \n",
       "1           2489         16.0  01    09  2020  \n",
       "2           2489         16.0  01    09  2020  \n",
       "3           2489         16.0  01    09  2020  \n",
       "4              0         16.0  01    04  2020  "
      ]
     },
     "execution_count": 12,
     "metadata": {},
     "output_type": "execute_result"
    }
   ],
   "source": [
    "df.head()"
   ]
  },
  {
   "cell_type": "code",
   "execution_count": 13,
   "id": "1e01e664",
   "metadata": {
    "scrolled": true
   },
   "outputs": [
    {
     "data": {
      "text/html": [
       "<div>\n",
       "<style scoped>\n",
       "    .dataframe tbody tr th:only-of-type {\n",
       "        vertical-align: middle;\n",
       "    }\n",
       "\n",
       "    .dataframe tbody tr th {\n",
       "        vertical-align: top;\n",
       "    }\n",
       "\n",
       "    .dataframe thead th {\n",
       "        text-align: right;\n",
       "    }\n",
       "</style>\n",
       "<table border=\"1\" class=\"dataframe\">\n",
       "  <thead>\n",
       "    <tr style=\"text-align: right;\">\n",
       "      <th></th>\n",
       "      <th>popularity</th>\n",
       "      <th>best_price</th>\n",
       "      <th>lowest_price</th>\n",
       "      <th>highest_price</th>\n",
       "      <th>memory_size</th>\n",
       "    </tr>\n",
       "  </thead>\n",
       "  <tbody>\n",
       "    <tr>\n",
       "      <th>count</th>\n",
       "      <td>1224.000000</td>\n",
       "      <td>1224.000000</td>\n",
       "      <td>1224.000000</td>\n",
       "      <td>1224.000000</td>\n",
       "      <td>1224.000000</td>\n",
       "    </tr>\n",
       "    <tr>\n",
       "      <th>mean</th>\n",
       "      <td>612.500000</td>\n",
       "      <td>7941.206699</td>\n",
       "      <td>6077.002451</td>\n",
       "      <td>7783.993464</td>\n",
       "      <td>56.936655</td>\n",
       "    </tr>\n",
       "    <tr>\n",
       "      <th>std</th>\n",
       "      <td>353.482673</td>\n",
       "      <td>8891.836260</td>\n",
       "      <td>8226.636133</td>\n",
       "      <td>10989.113238</td>\n",
       "      <td>67.140412</td>\n",
       "    </tr>\n",
       "    <tr>\n",
       "      <th>min</th>\n",
       "      <td>1.000000</td>\n",
       "      <td>214.000000</td>\n",
       "      <td>0.000000</td>\n",
       "      <td>0.000000</td>\n",
       "      <td>0.000000</td>\n",
       "    </tr>\n",
       "    <tr>\n",
       "      <th>25%</th>\n",
       "      <td>306.750000</td>\n",
       "      <td>2599.750000</td>\n",
       "      <td>427.000000</td>\n",
       "      <td>549.000000</td>\n",
       "      <td>0.032000</td>\n",
       "    </tr>\n",
       "    <tr>\n",
       "      <th>50%</th>\n",
       "      <td>612.500000</td>\n",
       "      <td>4728.000000</td>\n",
       "      <td>3372.500000</td>\n",
       "      <td>3870.000000</td>\n",
       "      <td>32.000000</td>\n",
       "    </tr>\n",
       "    <tr>\n",
       "      <th>75%</th>\n",
       "      <td>918.250000</td>\n",
       "      <td>9323.000000</td>\n",
       "      <td>7005.500000</td>\n",
       "      <td>8999.000000</td>\n",
       "      <td>64.000000</td>\n",
       "    </tr>\n",
       "    <tr>\n",
       "      <th>max</th>\n",
       "      <td>1224.000000</td>\n",
       "      <td>56082.000000</td>\n",
       "      <td>49999.000000</td>\n",
       "      <td>69999.000000</td>\n",
       "      <td>512.000000</td>\n",
       "    </tr>\n",
       "  </tbody>\n",
       "</table>\n",
       "</div>"
      ],
      "text/plain": [
       "        popularity    best_price  lowest_price  highest_price  memory_size\n",
       "count  1224.000000   1224.000000   1224.000000    1224.000000  1224.000000\n",
       "mean    612.500000   7941.206699   6077.002451    7783.993464    56.936655\n",
       "std     353.482673   8891.836260   8226.636133   10989.113238    67.140412\n",
       "min       1.000000    214.000000      0.000000       0.000000     0.000000\n",
       "25%     306.750000   2599.750000    427.000000     549.000000     0.032000\n",
       "50%     612.500000   4728.000000   3372.500000    3870.000000    32.000000\n",
       "75%     918.250000   9323.000000   7005.500000    8999.000000    64.000000\n",
       "max    1224.000000  56082.000000  49999.000000   69999.000000   512.000000"
      ]
     },
     "execution_count": 13,
     "metadata": {},
     "output_type": "execute_result"
    }
   ],
   "source": [
    "df.describe()"
   ]
  },
  {
   "cell_type": "markdown",
   "id": "b491684e",
   "metadata": {},
   "source": [
    "Data Preprocessing"
   ]
  },
  {
   "cell_type": "code",
   "execution_count": 14,
   "id": "5178ed6e",
   "metadata": {},
   "outputs": [
    {
     "data": {
      "text/plain": [
       "brand            0\n",
       "model            0\n",
       "os               0\n",
       "popularity       0\n",
       "best_price       0\n",
       "lowest_price     0\n",
       "highest_price    0\n",
       "memory_size      0\n",
       "day              0\n",
       "month            0\n",
       "year             0\n",
       "dtype: int64"
      ]
     },
     "execution_count": 14,
     "metadata": {},
     "output_type": "execute_result"
    }
   ],
   "source": [
    "# Identifying Missing Values\n",
    "df.isna().sum()"
   ]
  },
  {
   "cell_type": "code",
   "execution_count": 15,
   "id": "7ddeeb94",
   "metadata": {},
   "outputs": [
    {
     "data": {
      "text/plain": [
       "alcatel         360\n",
       "Apple           153\n",
       "Asus            150\n",
       "Allview         120\n",
       "Acer             99\n",
       "BlackBerry       87\n",
       "Bird             61\n",
       "Amoi             47\n",
       "BenQ             35\n",
       "Archos           31\n",
       "BenQ-Siemens     27\n",
       "Nomi             24\n",
       "Amazon           14\n",
       "Benefon           9\n",
       "AT&T              4\n",
       "HUAWEI            1\n",
       "ZTE               1\n",
       "Sigma mobile      1\n",
       "Name: brand, dtype: int64"
      ]
     },
     "execution_count": 15,
     "metadata": {},
     "output_type": "execute_result"
    }
   ],
   "source": [
    "df[\"brand\"].value_counts()"
   ]
  },
  {
   "cell_type": "code",
   "execution_count": 16,
   "id": "3cc1cb80",
   "metadata": {
    "scrolled": true
   },
   "outputs": [
    {
     "data": {
      "text/plain": [
       "EL71              2\n",
       "A3                2\n",
       "A10               2\n",
       "E72               2\n",
       "Fire 7            2\n",
       "                 ..\n",
       "OT-C656           1\n",
       "OT-C551           1\n",
       "OT-C552           1\n",
       "OT-C555           1\n",
       "Studio 5.0 LTE    1\n",
       "Name: model, Length: 1219, dtype: int64"
      ]
     },
     "execution_count": 16,
     "metadata": {},
     "output_type": "execute_result"
    }
   ],
   "source": [
    "df[\"model\"].value_counts()"
   ]
  },
  {
   "cell_type": "code",
   "execution_count": 17,
   "id": "766126c6",
   "metadata": {},
   "outputs": [],
   "source": [
    "# Outliers treatment"
   ]
  },
  {
   "cell_type": "code",
   "execution_count": 18,
   "id": "582d7013",
   "metadata": {},
   "outputs": [
    {
     "data": {
      "text/plain": [
       "<Axes: >"
      ]
     },
     "execution_count": 18,
     "metadata": {},
     "output_type": "execute_result"
    },
    {
     "data": {
      "image/png": "[encoded data removed]",
      "text/plain": [
       "<Figure size 640x480 with 1 Axes>"
      ]
     },
     "metadata": {},
     "output_type": "display_data"
    }
   ],
   "source": [
    "df.plot.box()"
   ]
  },
  {
   "cell_type": "code",
   "execution_count": 19,
   "id": "ba71114d",
   "metadata": {},
   "outputs": [],
   "source": [
    "# Removing outliers from best_price"
   ]
  },
  {
   "cell_type": "code",
   "execution_count": 20,
   "id": "7f20a1f0",
   "metadata": {
    "scrolled": false
   },
   "outputs": [
    {
     "data": {
      "image/png": "[encoded data removed]",
      "text/plain": [
       "<Figure size 640x480 with 1 Axes>"
      ]
     },
     "metadata": {},
     "output_type": "display_data"
    }
   ],
   "source": [
    "df[\"best_price\"].plot.box()\n",
    "plt.show()"
   ]
  },
  {
   "cell_type": "code",
   "execution_count": 21,
   "id": "ea24a4c9",
   "metadata": {},
   "outputs": [
    {
     "data": {
      "text/plain": [
       "0.80    12885.00\n",
       "0.82    14103.94\n",
       "0.83    14787.88\n",
       "Name: best_price, dtype: float64"
      ]
     },
     "execution_count": 21,
     "metadata": {},
     "output_type": "execute_result"
    }
   ],
   "source": [
    "df[\"best_price\"].quantile([0.8,0.82,0.83])"
   ]
  },
  {
   "cell_type": "code",
   "execution_count": 22,
   "id": "814c8cda",
   "metadata": {},
   "outputs": [
    {
     "data": {
      "text/plain": [
       "0.25    2599.75\n",
       "0.50    4728.00\n",
       "0.75    9323.00\n",
       "Name: best_price, dtype: float64"
      ]
     },
     "execution_count": 22,
     "metadata": {},
     "output_type": "execute_result"
    }
   ],
   "source": [
    "df[\"best_price\"].quantile([0.25, 0.5, 0.75])"
   ]
  },
  {
   "cell_type": "code",
   "execution_count": 23,
   "id": "d86dc6d1",
   "metadata": {},
   "outputs": [],
   "source": [
    "df[\"best_price\"] = list(map(lambda x: df[\"best_price\"].mean() if x > 14103.94 else x, df[\"best_price\"]))"
   ]
  },
  {
   "cell_type": "code",
   "execution_count": 24,
   "id": "04d8680c",
   "metadata": {
    "scrolled": false
   },
   "outputs": [
    {
     "data": {
      "image/png": "[encoded data removed]",
      "text/plain": [
       "<Figure size 640x480 with 1 Axes>"
      ]
     },
     "metadata": {},
     "output_type": "display_data"
    }
   ],
   "source": [
    "df[\"best_price\"].plot.box()\n",
    "plt.show()"
   ]
  },
  {
   "cell_type": "code",
   "execution_count": 25,
   "id": "a9379d0b",
   "metadata": {},
   "outputs": [],
   "source": [
    "# Removing outliers from lowest_price"
   ]
  },
  {
   "cell_type": "code",
   "execution_count": 26,
   "id": "bfb95166",
   "metadata": {},
   "outputs": [
    {
     "data": {
      "image/png": "[encoded data removed]",
      "text/plain": [
       "<Figure size 640x480 with 1 Axes>"
      ]
     },
     "metadata": {},
     "output_type": "display_data"
    }
   ],
   "source": [
    "df[\"lowest_price\"].plot.box()\n",
    "plt.show()"
   ]
  },
  {
   "cell_type": "code",
   "execution_count": 27,
   "id": "4e7edcf0",
   "metadata": {},
   "outputs": [
    {
     "data": {
      "text/plain": [
       "0.800     9109.60\n",
       "0.820    10337.06\n",
       "0.830    11754.22\n",
       "0.840    12616.96\n",
       "0.854    13771.10\n",
       "0.860    13982.40\n",
       "Name: lowest_price, dtype: float64"
      ]
     },
     "execution_count": 27,
     "metadata": {},
     "output_type": "execute_result"
    }
   ],
   "source": [
    "df[\"lowest_price\"].quantile([0.80,0.82,0.83,0.84,0.854,0.86])"
   ]
  },
  {
   "cell_type": "code",
   "execution_count": 28,
   "id": "f65599d7",
   "metadata": {},
   "outputs": [
    {
     "data": {
      "text/plain": [
       "0.25     427.0\n",
       "0.50    3372.5\n",
       "0.75    7005.5\n",
       "Name: lowest_price, dtype: float64"
      ]
     },
     "execution_count": 28,
     "metadata": {},
     "output_type": "execute_result"
    }
   ],
   "source": [
    "df[\"lowest_price\"].quantile([0.25, 0.5, 0.75])"
   ]
  },
  {
   "cell_type": "code",
   "execution_count": 29,
   "id": "8ea51cfa",
   "metadata": {},
   "outputs": [],
   "source": [
    "df[\"lowest_price\"] = list(map(lambda x: df[\"lowest_price\"].mean() if x > 12616.96 else x, df[\"lowest_price\"]))"
   ]
  },
  {
   "cell_type": "code",
   "execution_count": 30,
   "id": "7225e2f7",
   "metadata": {},
   "outputs": [
    {
     "data": {
      "image/png": "[encoded data removed]",
      "text/plain": [
       "<Figure size 640x480 with 1 Axes>"
      ]
     },
     "metadata": {},
     "output_type": "display_data"
    }
   ],
   "source": [
    "df[\"lowest_price\"].plot.box()\n",
    "plt.show()"
   ]
  },
  {
   "cell_type": "code",
   "execution_count": 31,
   "id": "c32bb549",
   "metadata": {},
   "outputs": [],
   "source": [
    "# Removing outliers from highest_price"
   ]
  },
  {
   "cell_type": "code",
   "execution_count": 32,
   "id": "4f6703a8",
   "metadata": {},
   "outputs": [
    {
     "data": {
      "image/png": "[encoded data removed]",
      "text/plain": [
       "<Figure size 640x480 with 1 Axes>"
      ]
     },
     "metadata": {},
     "output_type": "display_data"
    }
   ],
   "source": [
    "df[\"highest_price\"].plot.box()\n",
    "plt.show()"
   ]
  },
  {
   "cell_type": "code",
   "execution_count": 33,
   "id": "63ef2595",
   "metadata": {},
   "outputs": [
    {
     "data": {
      "text/plain": [
       "0.85    17727.35\n",
       "0.86    18329.74\n",
       "Name: highest_price, dtype: float64"
      ]
     },
     "execution_count": 33,
     "metadata": {},
     "output_type": "execute_result"
    }
   ],
   "source": [
    "df[\"highest_price\"].quantile([0.85,0.86])"
   ]
  },
  {
   "cell_type": "code",
   "execution_count": 34,
   "id": "664daf06",
   "metadata": {},
   "outputs": [],
   "source": [
    "df[\"highest_price\"] = list(map(lambda x: df[\"highest_price\"].mean() if x > 18329.74 else x, df[\"highest_price\"]))"
   ]
  },
  {
   "cell_type": "code",
   "execution_count": 35,
   "id": "9f9a109e",
   "metadata": {},
   "outputs": [
    {
     "data": {
      "image/png": "[encoded data removed]",
      "text/plain": [
       "<Figure size 640x480 with 1 Axes>"
      ]
     },
     "metadata": {},
     "output_type": "display_data"
    }
   ],
   "source": [
    "df[\"highest_price\"].plot.box()\n",
    "plt.show()"
   ]
  },
  {
   "cell_type": "code",
   "execution_count": 36,
   "id": "3685b40e",
   "metadata": {},
   "outputs": [],
   "source": [
    "# Removing outliers from memory_size"
   ]
  },
  {
   "cell_type": "code",
   "execution_count": 37,
   "id": "1a002bb6",
   "metadata": {},
   "outputs": [
    {
     "data": {
      "image/png": "[encoded data removed]",
      "text/plain": [
       "<Figure size 640x480 with 1 Axes>"
      ]
     },
     "metadata": {},
     "output_type": "display_data"
    }
   ],
   "source": [
    "df[\"memory_size\"].plot.box()\n",
    "plt.show()"
   ]
  },
  {
   "cell_type": "code",
   "execution_count": 38,
   "id": "3ae3672b",
   "metadata": {},
   "outputs": [
    {
     "data": {
      "text/plain": [
       "0.87    128.0\n",
       "0.89    128.0\n",
       "0.90    128.0\n",
       "0.96    128.0\n",
       "Name: memory_size, dtype: float64"
      ]
     },
     "execution_count": 38,
     "metadata": {},
     "output_type": "execute_result"
    }
   ],
   "source": [
    "df[\"memory_size\"].quantile([0.87,0.89,0.9,0.96])"
   ]
  },
  {
   "cell_type": "code",
   "execution_count": 39,
   "id": "c088af3e",
   "metadata": {},
   "outputs": [],
   "source": [
    "df[\"memory_size\"] = list(map(lambda x: df[\"memory_size\"].mean() if x > 128.0 else x, df[\"memory_size\"]))"
   ]
  },
  {
   "cell_type": "code",
   "execution_count": 40,
   "id": "dcba755d",
   "metadata": {},
   "outputs": [
    {
     "data": {
      "image/png": "[encoded data removed]",
      "text/plain": [
       "<Figure size 640x480 with 1 Axes>"
      ]
     },
     "metadata": {},
     "output_type": "display_data"
    }
   ],
   "source": [
    "df[\"memory_size\"].plot.box()\n",
    "plt.show()"
   ]
  },
  {
   "cell_type": "markdown",
   "id": "a6724504",
   "metadata": {},
   "source": [
    "Data Visulization"
   ]
  },
  {
   "cell_type": "code",
   "execution_count": 41,
   "id": "b47c1341",
   "metadata": {
    "scrolled": true
   },
   "outputs": [
    {
     "data": {
      "image/png": "[encoded data removed]",
      "text/plain": [
       "<Figure size 500x300 with 1 Axes>"
      ]
     },
     "metadata": {},
     "output_type": "display_data"
    }
   ],
   "source": [
    "# Plotting histogram of popularity scores\n",
    "plt.figure(figsize=(8, 6))\n",
    "plt.hist(df['popularity'], bins=20, color='skyblue', edgecolor='black')\n",
    "plt.title('Distribution of Popularity Scores')\n",
    "plt.xlabel('Popularity')\n",
    "plt.ylabel('Frequency')\n",
    "plt.grid(True)\n",
    "plt.show()"
   ]
  },
  {
   "cell_type": "code",
   "execution_count": 42,
   "id": "b5c7f8d2",
   "metadata": {},
   "outputs": [
    {
     "data": {
      "text/html": [
       "<div>\n",
       "<style scoped>\n",
       "    .dataframe tbody tr th:only-of-type {\n",
       "        vertical-align: middle;\n",
       "    }\n",
       "\n",
       "    .dataframe tbody tr th {\n",
       "        vertical-align: top;\n",
       "    }\n",
       "\n",
       "    .dataframe thead th {\n",
       "        text-align: right;\n",
       "    }\n",
       "</style>\n",
       "<table border=\"1\" class=\"dataframe\">\n",
       "  <thead>\n",
       "    <tr style=\"text-align: right;\">\n",
       "      <th></th>\n",
       "      <th>popularity</th>\n",
       "      <th>best_price</th>\n",
       "      <th>lowest_price</th>\n",
       "      <th>highest_price</th>\n",
       "      <th>memory_size</th>\n",
       "    </tr>\n",
       "  </thead>\n",
       "  <tbody>\n",
       "    <tr>\n",
       "      <th>count</th>\n",
       "      <td>1224.000000</td>\n",
       "      <td>1224.000000</td>\n",
       "      <td>1224.000000</td>\n",
       "      <td>1224.000000</td>\n",
       "      <td>1224.000000</td>\n",
       "    </tr>\n",
       "    <tr>\n",
       "      <th>mean</th>\n",
       "      <td>612.500000</td>\n",
       "      <td>5033.654968</td>\n",
       "      <td>3492.788791</td>\n",
       "      <td>4537.673101</td>\n",
       "      <td>48.804631</td>\n",
       "    </tr>\n",
       "    <tr>\n",
       "      <th>std</th>\n",
       "      <td>353.482673</td>\n",
       "      <td>3152.865156</td>\n",
       "      <td>2976.915996</td>\n",
       "      <td>4238.020761</td>\n",
       "      <td>46.419374</td>\n",
       "    </tr>\n",
       "    <tr>\n",
       "      <th>min</th>\n",
       "      <td>1.000000</td>\n",
       "      <td>214.000000</td>\n",
       "      <td>0.000000</td>\n",
       "      <td>0.000000</td>\n",
       "      <td>0.000000</td>\n",
       "    </tr>\n",
       "    <tr>\n",
       "      <th>25%</th>\n",
       "      <td>306.750000</td>\n",
       "      <td>2599.750000</td>\n",
       "      <td>427.000000</td>\n",
       "      <td>549.000000</td>\n",
       "      <td>0.032000</td>\n",
       "    </tr>\n",
       "    <tr>\n",
       "      <th>50%</th>\n",
       "      <td>612.500000</td>\n",
       "      <td>4728.000000</td>\n",
       "      <td>3372.500000</td>\n",
       "      <td>3870.000000</td>\n",
       "      <td>32.000000</td>\n",
       "    </tr>\n",
       "    <tr>\n",
       "      <th>75%</th>\n",
       "      <td>918.250000</td>\n",
       "      <td>7941.206699</td>\n",
       "      <td>6077.002451</td>\n",
       "      <td>7783.993464</td>\n",
       "      <td>64.000000</td>\n",
       "    </tr>\n",
       "    <tr>\n",
       "      <th>max</th>\n",
       "      <td>1224.000000</td>\n",
       "      <td>14079.000000</td>\n",
       "      <td>12592.000000</td>\n",
       "      <td>18187.000000</td>\n",
       "      <td>128.000000</td>\n",
       "    </tr>\n",
       "  </tbody>\n",
       "</table>\n",
       "</div>"
      ],
      "text/plain": [
       "        popularity    best_price  lowest_price  highest_price  memory_size\n",
       "count  1224.000000   1224.000000   1224.000000    1224.000000  1224.000000\n",
       "mean    612.500000   5033.654968   3492.788791    4537.673101    48.804631\n",
       "std     353.482673   3152.865156   2976.915996    4238.020761    46.419374\n",
       "min       1.000000    214.000000      0.000000       0.000000     0.000000\n",
       "25%     306.750000   2599.750000    427.000000     549.000000     0.032000\n",
       "50%     612.500000   4728.000000   3372.500000    3870.000000    32.000000\n",
       "75%     918.250000   7941.206699   6077.002451    7783.993464    64.000000\n",
       "max    1224.000000  14079.000000  12592.000000   18187.000000   128.000000"
      ]
     },
     "execution_count": 42,
     "metadata": {},
     "output_type": "execute_result"
    }
   ],
   "source": [
    "df.describe()"
   ]
  },
  {
   "cell_type": "code",
   "execution_count": 43,
   "id": "a13e3de3",
   "metadata": {},
   "outputs": [
    {
     "data": {
      "image/png": "[encoded data removed]",
      "text/plain": [
       "<Figure size 800x600 with 1 Axes>"
      ]
     },
     "metadata": {},
     "output_type": "display_data"
    }
   ],
   "source": [
    "plt.figure(figsize=(8,6))\n",
    "plt.scatter(df[\"memory_size\"],df[\"best_price\"], alpha=0.6)\n",
    "plt.title(\"Best Price vs Memory Size\")\n",
    "plt.xlabel(\"Memory Size\")\n",
    "plt.ylabel(\"Best Price\")\n",
    "plt.show()"
   ]
  },
  {
   "cell_type": "code",
   "execution_count": 44,
   "id": "37bd7c0f",
   "metadata": {},
   "outputs": [
    {
     "data": {
      "image/png": "[encoded data removed]",
      "text/plain": [
       "<Figure size 800x600 with 1 Axes>"
      ]
     },
     "metadata": {},
     "output_type": "display_data"
    }
   ],
   "source": [
    "plt.figure(figsize=(8,6))\n",
    "plt.hist(df[\"lowest_price\"],bins=20, label=\"Lowest Price\")\n",
    "plt.hist(df[\"highest_price\"], bins=20, label=\"Highest Price\")\n",
    "plt.title(\"Comparison of Lowest and Highest Price\")\n",
    "plt.xlabel(\"Price\")\n",
    "plt.ylabel(\"Count\")\n",
    "plt.legend()\n",
    "plt.show()"
   ]
  },
  {
   "cell_type": "markdown",
   "id": "df9b5b55",
   "metadata": {},
   "source": [
    "Feature Engineering"
   ]
  },
  {
   "cell_type": "code",
   "execution_count": 45,
   "id": "daee1214",
   "metadata": {},
   "outputs": [],
   "source": [
    "from sklearn.decomposition import PCA\n",
    "from sklearn.preprocessing import StandardScaler"
   ]
  },
  {
   "cell_type": "code",
   "execution_count": 46,
   "id": "c5e3fd9a",
   "metadata": {},
   "outputs": [],
   "source": [
    "col = [\"popularity\",\"best_price\",\"lowest_price\",\"highest_price\",\"memory_size\"]"
   ]
  },
  {
   "cell_type": "code",
   "execution_count": 47,
   "id": "ae792a92",
   "metadata": {},
   "outputs": [],
   "source": [
    "new_col = df[col]"
   ]
  },
  {
   "cell_type": "code",
   "execution_count": 48,
   "id": "5cf8873e",
   "metadata": {},
   "outputs": [],
   "source": [
    "scaler = StandardScaler()"
   ]
  },
  {
   "cell_type": "code",
   "execution_count": 49,
   "id": "5df5fbff",
   "metadata": {},
   "outputs": [],
   "source": [
    "col_scale = scaler.fit_transform(new_col)"
   ]
  },
  {
   "cell_type": "code",
   "execution_count": 50,
   "id": "52d6dd4c",
   "metadata": {},
   "outputs": [],
   "source": [
    "pca = PCA(n_components=2)"
   ]
  },
  {
   "cell_type": "code",
   "execution_count": 51,
   "id": "7edf22bc",
   "metadata": {},
   "outputs": [],
   "source": [
    "col_pca = pca.fit_transform(df[col])"
   ]
  },
  {
   "cell_type": "code",
   "execution_count": 52,
   "id": "e0ede78d",
   "metadata": {
    "scrolled": true
   },
   "outputs": [
    {
     "data": {
      "text/html": [
       "<div>\n",
       "<style scoped>\n",
       "    .dataframe tbody tr th:only-of-type {\n",
       "        vertical-align: middle;\n",
       "    }\n",
       "\n",
       "    .dataframe tbody tr th {\n",
       "        vertical-align: top;\n",
       "    }\n",
       "\n",
       "    .dataframe thead th {\n",
       "        text-align: right;\n",
       "    }\n",
       "</style>\n",
       "<table border=\"1\" class=\"dataframe\">\n",
       "  <thead>\n",
       "    <tr style=\"text-align: right;\">\n",
       "      <th></th>\n",
       "      <th>PC1</th>\n",
       "      <th>PC2</th>\n",
       "    </tr>\n",
       "  </thead>\n",
       "  <tbody>\n",
       "    <tr>\n",
       "      <th>0</th>\n",
       "      <td>-4537.888313</td>\n",
       "      <td>-1366.072592</td>\n",
       "    </tr>\n",
       "    <tr>\n",
       "      <th>1</th>\n",
       "      <td>-3935.017944</td>\n",
       "      <td>-1573.437531</td>\n",
       "    </tr>\n",
       "    <tr>\n",
       "      <th>2</th>\n",
       "      <td>-3935.718791</td>\n",
       "      <td>-1573.086164</td>\n",
       "    </tr>\n",
       "    <tr>\n",
       "      <th>3</th>\n",
       "      <td>-3936.069214</td>\n",
       "      <td>-1572.910480</td>\n",
       "    </tr>\n",
       "    <tr>\n",
       "      <th>4</th>\n",
       "      <td>-6456.717599</td>\n",
       "      <td>-0.321964</td>\n",
       "    </tr>\n",
       "  </tbody>\n",
       "</table>\n",
       "</div>"
      ],
      "text/plain": [
       "           PC1          PC2\n",
       "0 -4537.888313 -1366.072592\n",
       "1 -3935.017944 -1573.437531\n",
       "2 -3935.718791 -1573.086164\n",
       "3 -3936.069214 -1572.910480\n",
       "4 -6456.717599    -0.321964"
      ]
     },
     "execution_count": 52,
     "metadata": {},
     "output_type": "execute_result"
    }
   ],
   "source": [
    "pc = pd.DataFrame(data=col_pca, columns=[\"PC1\",\"PC2\"])\n",
    "pc.head()"
   ]
  },
  {
   "cell_type": "code",
   "execution_count": 53,
   "id": "a282d981",
   "metadata": {
    "scrolled": false
   },
   "outputs": [
    {
     "data": {
      "text/html": [
       "<div>\n",
       "<style scoped>\n",
       "    .dataframe tbody tr th:only-of-type {\n",
       "        vertical-align: middle;\n",
       "    }\n",
       "\n",
       "    .dataframe tbody tr th {\n",
       "        vertical-align: top;\n",
       "    }\n",
       "\n",
       "    .dataframe thead th {\n",
       "        text-align: right;\n",
       "    }\n",
       "</style>\n",
       "<table border=\"1\" class=\"dataframe\">\n",
       "  <thead>\n",
       "    <tr style=\"text-align: right;\">\n",
       "      <th></th>\n",
       "      <th>brand</th>\n",
       "      <th>model</th>\n",
       "      <th>os</th>\n",
       "      <th>popularity</th>\n",
       "      <th>best_price</th>\n",
       "      <th>lowest_price</th>\n",
       "      <th>highest_price</th>\n",
       "      <th>memory_size</th>\n",
       "      <th>day</th>\n",
       "      <th>month</th>\n",
       "      <th>year</th>\n",
       "    </tr>\n",
       "  </thead>\n",
       "  <tbody>\n",
       "    <tr>\n",
       "      <th>0</th>\n",
       "      <td>Acer</td>\n",
       "      <td>Iconia Talk S</td>\n",
       "      <td>Android</td>\n",
       "      <td>422</td>\n",
       "      <td>1690.0</td>\n",
       "      <td>1529.0</td>\n",
       "      <td>1819.0</td>\n",
       "      <td>8.0</td>\n",
       "      <td>01</td>\n",
       "      <td>10</td>\n",
       "      <td>2020</td>\n",
       "    </tr>\n",
       "    <tr>\n",
       "      <th>1</th>\n",
       "      <td>Acer</td>\n",
       "      <td>Liquid Z6 Plus</td>\n",
       "      <td>Android</td>\n",
       "      <td>323</td>\n",
       "      <td>1803.0</td>\n",
       "      <td>1659.0</td>\n",
       "      <td>2489.0</td>\n",
       "      <td>16.0</td>\n",
       "      <td>01</td>\n",
       "      <td>09</td>\n",
       "      <td>2020</td>\n",
       "    </tr>\n",
       "    <tr>\n",
       "      <th>2</th>\n",
       "      <td>Acer</td>\n",
       "      <td>Liquid Z6</td>\n",
       "      <td>Android</td>\n",
       "      <td>299</td>\n",
       "      <td>1803.0</td>\n",
       "      <td>1659.0</td>\n",
       "      <td>2489.0</td>\n",
       "      <td>16.0</td>\n",
       "      <td>01</td>\n",
       "      <td>09</td>\n",
       "      <td>2020</td>\n",
       "    </tr>\n",
       "    <tr>\n",
       "      <th>3</th>\n",
       "      <td>Acer</td>\n",
       "      <td>Iconia Tab 10 A3-A40</td>\n",
       "      <td>Android</td>\n",
       "      <td>287</td>\n",
       "      <td>1803.0</td>\n",
       "      <td>1659.0</td>\n",
       "      <td>2489.0</td>\n",
       "      <td>16.0</td>\n",
       "      <td>01</td>\n",
       "      <td>09</td>\n",
       "      <td>2020</td>\n",
       "    </tr>\n",
       "    <tr>\n",
       "      <th>4</th>\n",
       "      <td>Acer</td>\n",
       "      <td>Liquid X2</td>\n",
       "      <td>Android</td>\n",
       "      <td>1047</td>\n",
       "      <td>1999.0</td>\n",
       "      <td>0.0</td>\n",
       "      <td>0.0</td>\n",
       "      <td>16.0</td>\n",
       "      <td>01</td>\n",
       "      <td>04</td>\n",
       "      <td>2020</td>\n",
       "    </tr>\n",
       "  </tbody>\n",
       "</table>\n",
       "</div>"
      ],
      "text/plain": [
       "  brand                 model       os  popularity  best_price  lowest_price  \\\n",
       "0  Acer         Iconia Talk S  Android         422      1690.0        1529.0   \n",
       "1  Acer        Liquid Z6 Plus  Android         323      1803.0        1659.0   \n",
       "2  Acer             Liquid Z6  Android         299      1803.0        1659.0   \n",
       "3  Acer  Iconia Tab 10 A3-A40  Android         287      1803.0        1659.0   \n",
       "4  Acer             Liquid X2  Android        1047      1999.0           0.0   \n",
       "\n",
       "   highest_price  memory_size day month  year  \n",
       "0         1819.0          8.0  01    10  2020  \n",
       "1         2489.0         16.0  01    09  2020  \n",
       "2         2489.0         16.0  01    09  2020  \n",
       "3         2489.0         16.0  01    09  2020  \n",
       "4            0.0         16.0  01    04  2020  "
      ]
     },
     "execution_count": 53,
     "metadata": {},
     "output_type": "execute_result"
    }
   ],
   "source": [
    "df.head()"
   ]
  },
  {
   "cell_type": "code",
   "execution_count": 55,
   "id": "472f0c7b",
   "metadata": {},
   "outputs": [],
   "source": [
    "from sklearn.model_selection import train_test_split\n",
    "from sklearn.preprocessing import LabelEncoder\n",
    "from sklearn.preprocessing import OneHotEncoder\n",
    "from sklearn.linear_model import LogisticRegression\n",
    "from sklearn.tree import DecisionTreeClassifier\n",
    "from sklearn.svm import SVC\n",
    "from sklearn.neighbors import KNeighborsClassifier\n",
    "from sklearn.metrics import accuracy_score, confusion_matrix"
   ]
  },
  {
   "cell_type": "code",
   "execution_count": 56,
   "id": "1473193c",
   "metadata": {},
   "outputs": [],
   "source": [
    "df_enc = pd.get_dummies(df, columns= [\"brand\",\"model\",\"popularity\",\"best_price\",\"lowest_price\",\"highest_price\",\"memory_size\",\"day\",\"month\",\"year\"])"
   ]
  },
  {
   "cell_type": "code",
   "execution_count": 57,
   "id": "f1d8a6b7",
   "metadata": {},
   "outputs": [],
   "source": [
    "X = df_enc.drop(columns=[\"os\"])\n",
    "y = df_enc[\"os\"]"
   ]
  },
  {
   "cell_type": "code",
   "execution_count": 58,
   "id": "f914ddae",
   "metadata": {},
   "outputs": [],
   "source": [
    "X_tr, X_te, y_tr, y_te = train_test_split(X, y, test_size=0.8, random_state=42)"
   ]
  },
  {
   "cell_type": "code",
   "execution_count": 59,
   "id": "85fa54e6",
   "metadata": {},
   "outputs": [],
   "source": [
    "lr = LogisticRegression()"
   ]
  },
  {
   "cell_type": "code",
   "execution_count": 60,
   "id": "4100c935",
   "metadata": {},
   "outputs": [
    {
     "name": "stdout",
     "output_type": "stream",
     "text": [
      "Training Score 1.0\n",
      "Testing Score 0.9418367346938775\n"
     ]
    }
   ],
   "source": [
    "lr.fit(X_tr, y_tr)\n",
    "print(\"Training Score\",lr.score(X_tr, y_tr))\n",
    "y_pred = lr.predict(X_te)\n",
    "print(\"Testing Score\", accuracy_score(y_te, y_pred))"
   ]
  },
  {
   "cell_type": "code",
   "execution_count": 61,
   "id": "cdb29e1d",
   "metadata": {},
   "outputs": [],
   "source": [
    "svc = SVC(kernel=\"rbf\")"
   ]
  },
  {
   "cell_type": "code",
   "execution_count": 62,
   "id": "c90c6e67",
   "metadata": {},
   "outputs": [
    {
     "name": "stdout",
     "output_type": "stream",
     "text": [
      "Training Score 0.9959016393442623\n",
      "Testing Score 0.9408163265306122\n"
     ]
    }
   ],
   "source": [
    "svc.fit(X_tr, y_tr)\n",
    "print(\"Training Score\", svc.score(X_tr, y_tr))\n",
    "y_pred = svc.predict(X_te)\n",
    "print(\"Testing Score\", accuracy_score(y_te, y_pred))"
   ]
  },
  {
   "cell_type": "code",
   "execution_count": 63,
   "id": "905d10d4",
   "metadata": {},
   "outputs": [],
   "source": [
    "dt = DecisionTreeClassifier()"
   ]
  },
  {
   "cell_type": "code",
   "execution_count": 64,
   "id": "e44d6a1b",
   "metadata": {},
   "outputs": [
    {
     "name": "stdout",
     "output_type": "stream",
     "text": [
      "Training Score 1.0\n",
      "Testing Score 0.9612244897959183\n"
     ]
    }
   ],
   "source": [
    "dt.fit(X_tr, y_tr)\n",
    "print(\"Training Score\", dt.score(X_tr, y_tr))\n",
    "y_pred = dt.predict(X_te)\n",
    "print(\"Testing Score\", accuracy_score(y_te, y_pred))"
   ]
  }
 ],
 "metadata": {
  "kernelspec": {
   "display_name": "Python 3 (ipykernel)",
   "language": "python",
   "name": "python3"
  },
  "language_info": {
   "codemirror_mode": {
    "name": "ipython",
    "version": 3
   },
   "file_extension": ".py",
   "mimetype": "text/x-python",
   "name": "python",
   "nbconvert_exporter": "python",
   "pygments_lexer": "ipython3",
   "version": "3.11.4"
  }
 },
 "nbformat": 4,
 "nbformat_minor": 5
}
